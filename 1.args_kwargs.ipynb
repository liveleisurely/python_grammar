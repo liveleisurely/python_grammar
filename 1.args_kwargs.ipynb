{
 "cells": [
  {
   "cell_type": "markdown",
   "metadata": {},
   "source": [
    "# 1. *args 사용법\n",
    "가변개수의 인수를 함수에 넣어줌"
   ]
  },
  {
   "cell_type": "markdown",
   "metadata": {},
   "source": []
  },
  {
   "cell_type": "code",
   "execution_count": 4,
   "metadata": {},
   "outputs": [],
   "source": [
    "def test_var_args(f_arg, *argv):\n",
    "  print (\"첫번째 인자: \", f_arg)\n",
    "  for arg in argv:\n",
    "    print(\"*argv의 다른 인자\", arg)"
   ]
  },
  {
   "cell_type": "code",
   "execution_count": 5,
   "metadata": {
    "scrolled": false
   },
   "outputs": [
    {
     "name": "stdout",
     "output_type": "stream",
     "text": [
      "첫번째 인자:  병훈\n",
      "*argv의 다른 인자 python\n",
      "*argv의 다른 인자 달걀\n",
      "*argv의 다른 인자 test\n"
     ]
    }
   ],
   "source": [
    "test_var_args(\"병훈\",\"python\",\"달걀\",\"test\")"
   ]
  },
  {
   "cell_type": "markdown",
   "metadata": {},
   "source": [
    "# 2. *kwags 사용법:\n",
    "가변개수의 인수를 함수에 넣어주는데 keywords 형식"
   ]
  },
  {
   "cell_type": "code",
   "execution_count": 18,
   "metadata": {},
   "outputs": [],
   "source": [
    "def greet_me(**kwargs):\n",
    "    if kwargs is not None:\n",
    "        for key, value in kwargs.items():\n",
    "            print (\"%s == %s\" % (key, value))"
   ]
  },
  {
   "cell_type": "code",
   "execution_count": 19,
   "metadata": {},
   "outputs": [
    {
     "name": "stdout",
     "output_type": "stream",
     "text": [
      "name == byunghoon\n"
     ]
    }
   ],
   "source": [
    "greet_me(name=\"byunghoon\")"
   ]
  },
  {
   "cell_type": "markdown",
   "metadata": {},
   "source": [
    "# 3. 함수 호출을 위한 *args와 **kwargs"
   ]
  },
  {
   "cell_type": "code",
   "execution_count": 22,
   "metadata": {},
   "outputs": [],
   "source": [
    "def test_args_kwargs(arg1, arg2, arg3):\n",
    "    print(\"인자1\", arg1)\n",
    "    print(\"인자2\", arg2)\n",
    "    print(\"인자3\", arg3)"
   ]
  },
  {
   "cell_type": "code",
   "execution_count": 23,
   "metadata": {},
   "outputs": [],
   "source": [
    "args = (\"two\",3,5)"
   ]
  },
  {
   "cell_type": "code",
   "execution_count": 24,
   "metadata": {},
   "outputs": [
    {
     "name": "stdout",
     "output_type": "stream",
     "text": [
      "인자1 two\n",
      "인자2 3\n",
      "인자3 5\n"
     ]
    }
   ],
   "source": [
    "test_args_kwargs(*args)"
   ]
  },
  {
   "cell_type": "code",
   "execution_count": 27,
   "metadata": {},
   "outputs": [],
   "source": [
    "kwargs = {\"arg3\": 3, \"arg2\":2, \"arg1\":1}"
   ]
  },
  {
   "cell_type": "code",
   "execution_count": 30,
   "metadata": {},
   "outputs": [
    {
     "name": "stdout",
     "output_type": "stream",
     "text": [
      "인자1 1\n",
      "인자2 2\n",
      "인자3 3\n"
     ]
    }
   ],
   "source": [
    "test_args_kwargs(**kwargs)"
   ]
  },
  {
   "cell_type": "code",
   "execution_count": null,
   "metadata": {},
   "outputs": [],
   "source": [
    "'''\n",
    "동시에 사용하려면,\n",
    "some_func(fargs, *args, **kwargs)\n",
    "이렇게 사용\n",
    "'''"
   ]
  },
  {
   "cell_type": "markdown",
   "metadata": {},
   "source": [
    "# 4. 사용하는 곳"
   ]
  },
  {
   "cell_type": "code",
   "execution_count": 32,
   "metadata": {},
   "outputs": [
    {
     "data": {
      "text/plain": [
       "'\\n일반적으로 함수의 데코레이터를 만들 때 사용.\\n몽키 패칭시 사용 : 런타임 중에 코드 일부를 수정\\n'"
      ]
     },
     "execution_count": 32,
     "metadata": {},
     "output_type": "execute_result"
    }
   ],
   "source": [
    "'''\n",
    "일반적으로 함수의 데코레이터를 만들 때 사용.\n",
    "몽키 패칭시 사용 : 런타임(실행) 중에 코드 일부를 수정\n",
    "'''"
   ]
  },
  {
   "cell_type": "code",
   "execution_count": 34,
   "metadata": {},
   "outputs": [
    {
     "data": {
      "text/plain": [
       "'\\nimport someclass\\n\\ndef get_info(self, *args):\\n    return \"Test Data\"\\n\\nsomeclass.get_info = get_info\\n'"
      ]
     },
     "execution_count": 34,
     "metadata": {},
     "output_type": "execute_result"
    }
   ],
   "source": [
    "'''\n",
    "import someclass\n",
    "\n",
    "def get_info(self, *args):\n",
    "    return \"Test Data\"\n",
    "\n",
    "someclass.get_info = get_info\n",
    "'''"
   ]
  }
 ],
 "metadata": {
  "kernelspec": {
   "display_name": "Python 3",
   "language": "python",
   "name": "python3"
  },
  "language_info": {
   "codemirror_mode": {
    "name": "ipython",
    "version": 3
   },
   "file_extension": ".py",
   "mimetype": "text/x-python",
   "name": "python",
   "nbconvert_exporter": "python",
   "pygments_lexer": "ipython3",
   "version": "3.8.3"
  }
 },
 "nbformat": 4,
 "nbformat_minor": 4
}
